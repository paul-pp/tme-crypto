{
 "cells": [
  {
   "cell_type": "markdown",
   "metadata": {
    "deletable": false,
    "editable": false,
    "nbgrader": {
     "cell_type": "markdown",
     "checksum": "93276c2a1a169480633eec323c3c6f42",
     "grade": false,
     "grade_id": "cell-e846a52d30334adf",
     "locked": true,
     "schema_version": 3,
     "solution": false,
     "task": false
    }
   },
   "source": [
    "---\n",
    "\n",
    "# Code pour les flags 5 à 10\n",
    "\n",
    "\n",
    "\n",
    "---"
   ]
  },
  {
   "cell_type": "code",
   "execution_count": 7,
   "metadata": {},
   "outputs": [],
   "source": [
    "import subprocess\n",
    "\n",
    "#on donne en argument à sign le message à signer et le chemin de la clé privée à utiliser pour signer.\n",
    "def sign(plain_text,chemin_priv_key):\n",
    "    # prépare les arguments à envoyer à openssl\n",
    "    args = ['openssl', 'dgst', '-sha256', '-sign', chemin_priv_key,'-hex']\n",
    "\n",
    "    # fichier=open('sign_elec.txt','r')\n",
    "    message=plain_text\n",
    "    # si plaintext est de stype str, on est obligé de l'encoder en bytes pour\n",
    "    # pouvoir l'envoyer dans le pipeline vers openssl\n",
    "    if isinstance(message, str):\n",
    "        message=message.encode('utf-8')\n",
    "\n",
    "    \n",
    "    # ouvre le pipeline vers openssl. envoie plaintext sur le stdin de openssl, récupère stdout et stderr\n",
    "    #    affiche la commande invoquée\n",
    "    #    print('debug : {0}'.format(' '.join(args)))\n",
    "    result = subprocess.run(args, input=message, stdout=subprocess.PIPE, stderr=subprocess.PIPE)\n",
    "\n",
    "    # si un message d'erreur est présent sur stderr, on arrête tout\n",
    "    # attention, sur stderr on récupère des bytes(), donc on convertit\n",
    "    error_message = result.stderr.decode()\n",
    "    if error_message != '':\n",
    "        print (error_message)\n",
    "    \n",
    "\n",
    "    # OK, openssl a envoyé le chiffré sur stdout, en base64.\n",
    "    # On récupère des bytes, donc on en fait une chaine unicode\n",
    "    return result.stdout\n",
    "\n"
   ]
  },
  {
   "cell_type": "markdown",
   "metadata": {},
   "source": [
    "# FLAG5 \n",
    "dict.atk\n",
    "(labo nord ouest, salle rc-13)\n",
    "\n",
    "D'après le post-it on sait que l'utilisateur vienna5 a choisi son mdp (pour se connecter à son ordi fixe) dans la base de données cambridge_words.txt (dispo à la bibliothèque). \n",
    "De plus, d'après le feuillet on a la trace d'un protocole chap (voir docu de la bibliothèque) de l'utilisateur :  \n",
    "- le challenge à déchiffrer\n",
    "- le message clair correspondant au chiffré\n",
    "\n",
    "Stratégie : faire tous les mots du Cambridge_words.txt et voir si le déchiffrage du chiffré (du feillet) à l'aide du mot de passe selectionné correspond au message clair (du feuillet)."
   ]
  },
  {
   "cell_type": "code",
   "execution_count": 1,
   "metadata": {},
   "outputs": [],
   "source": [
    "import subprocess\n",
    "\n",
    "\n",
    "#passphrase =ISECR0XX\n",
    "#cryptext = U2FsdGVkX1/PqMju8jHsLbrm2hYBIukOzyGgBTK50ETxm6vde+w5uwR3gxZmMfBoW+7+ZxLbUrsZmiv/rFxFpg==\n",
    "def decrypt2(passphrase,chiffre,cipher='aes-128-cbc'):\n",
    "    # prépare les arguments à envoyer à openssl\n",
    "    pass_arg = 'pass:{}'.format(passphrase)\n",
    "    args = ['openssl', 'enc','-d','-base64','-' + cipher, '-pbkdf2', '-pass', pass_arg]\n",
    "    # fichier = open(\"challenge_vienna5_chiffre.txt\", \"r\")\n",
    "    # chiffre=fichier.read()\n",
    "\n",
    "    # si plaintext est de stype str, on est obligé de l'encoder en bytes pour\n",
    "    # pouvoir l'envoyer dans le pipeline vers openssl\n",
    "    if isinstance(chiffre, str):\n",
    "        chiffre=chiffre.encode('utf-8')\n",
    "\n",
    "    \n",
    "    # ouvre le pipeline vers openssl. envoie plaintext sur le stdin de openssl, récupère stdout et stderr\n",
    "    #    affiche la commande invoquée\n",
    "    #    print('debug : {0}'.format(' '.join(args)))\n",
    "    result = subprocess.run(args, input=chiffre, stdout=subprocess.PIPE, stderr=subprocess.PIPE)\n",
    "\n",
    "    # si un message d'erreur est présent sur stderr, on arrête tout\n",
    "    # attention, sur stderr on récupère des bytes(), donc on convertit\n",
    "    error_message = result.stderr.decode()\n",
    "    # if error_message != '':\n",
    "    #     raise ValueError(error_message)\n",
    "    \n",
    "    # fichier.close()\n",
    "\n",
    "    # OK, openssl a envoyé le chiffré sur stdout, en base64.\n",
    "    # On récupère des bytes, donc on en fait une chaine unicode\n",
    "    # return result.stdout.strip()\n",
    "    if error_message == '':\n",
    "        return result.stdout.decode(errors='ignore')\n",
    "    else :\n",
    "        return 0"
   ]
  },
  {
   "cell_type": "code",
   "execution_count": 2,
   "metadata": {},
   "outputs": [
    {
     "name": "stdout",
     "output_type": "stream",
     "text": [
      "victoire\n",
      "availer\n"
     ]
    }
   ],
   "source": [
    "\n",
    "\n",
    "def brute_force_vienna5():\n",
    "    fichier2=open('challenge_vienna5_clair.txt','r')\n",
    "    message=fichier2.readlines()\n",
    "    # print(message[0])\n",
    "    fichier=open('cambridge_words.txt','r')\n",
    "    lignes = fichier.readlines()  # Retourne une liste\n",
    "    for ligne in lignes:\n",
    "        # print(ligne[0:-1])\n",
    "        if (decrypt2(ligne[0:-1],\"U2FsdGVkX19ulWDW9FnSKWngn2VWswEtd9gXmQHLa2dyTle3+Z8VeW3qybpl3CVw\\n\",cipher='aes-128-cbc')==message[0]):\n",
    "        # if (decrypt2(ligne[0:-1],message[0],cipher='aes-128-cbc')==message[1]):\n",
    "            print(\"victoire\")\n",
    "            return(ligne[0:-1])\n",
    " \n",
    "\n",
    "\n",
    "#Il faut laisser le \\n dans le chiffré, cassandra l'a laissé\n",
    "print(brute_force_vienna5())"
   ]
  },
  {
   "cell_type": "markdown",
   "metadata": {},
   "source": [
    "# FLAG 6 : \n",
    "chap.login\n",
    "\n",
    "Authentification CHAP pour sécuriser la connexion au lancement du jeu (voir docu à la bibliothèque), attention ne pas oublier le \\n à la fin du challenge !!"
   ]
  },
  {
   "cell_type": "code",
   "execution_count": 5,
   "metadata": {},
   "outputs": [
    {
     "data": {
      "text/plain": [
       "'raver scalp dhows guile totes'"
      ]
     },
     "execution_count": 5,
     "metadata": {},
     "output_type": "execute_result"
    }
   ],
   "source": [
    "\n",
    "decrypt2(\"hellocrypto\",\"U2FsdGVkX1+DPLptl1K4LHtWtXks1DEX57zBX/JWpaiq8Lo3OJl5FYi2Uj8F/ZCR\\n\",cipher='aes-128-cbc')"
   ]
  },
  {
   "cell_type": "markdown",
   "metadata": {},
   "source": [
    "# FLAG7 \n",
    "pk.login\n",
    "\n",
    "connexion super securisée grâce au protocole  _ PK _\n",
    "Principe : on nous donne un message en clair à signer. Le jeu a notre clé publique en mémoire (cf flag3) et peut vérifier notre signature."
   ]
  },
  {
   "cell_type": "code",
   "execution_count": 8,
   "metadata": {},
   "outputs": [
    {
     "name": "stdout",
     "output_type": "stream",
     "text": [
      "signature : b'SHA2-256(stdin)= a2128ba7b1a54ede8ed8f8ea7ac91d95f012fc79b181d2a4a8de689294c4e6db0787ba717125abdd9c15ee91e0e492357b4ee0cf3b5df7b34bfa0c0a209e4c5aad5fc2a54b7e2b8f8ea741bc0f3986951199c2a689e7117c5721a725659ab606e3ed8973310aaaacf4ed1c64c1d7c1f9d041a28f9cd8cc4b1954cfddb4592dd800240a3dc4a694d4d76bebd2f090e33fc0b88b51c44e771ccd90ee7f032b71b991242087099df26c4c805a1870aad1eb790a692c2c0752084d2f69e7d84cb00d5001f42538b73fc9c740f1644efc39edf53961d5aaa67537acb8f7fa3e0bc6d783e4b38eb7cc31902c73174e9171af991b18a381c606553ee7f2a69c9e9358af\\n'\n"
     ]
    }
   ],
   "source": [
    "\n",
    "print(\"signature :\", sign(\"decaf whelk moist gluts doser\",\"keys/priv_key.pem\"))"
   ]
  },
  {
   "cell_type": "markdown",
   "metadata": {},
   "source": [
    "# Flag8 : \n",
    "pki.cert\n",
    "\n",
    "Il suffit de copier le certificat de l'autorité de certification UGLIX et de l'upload dans ma card data dans un terminal de service dans le labo par exemple. Enfin, on se rend au lecteur nfc du cicsu et on tappe \"ouvrir lecteur carte\"."
   ]
  },
  {
   "cell_type": "markdown",
   "metadata": {},
   "source": [
    "# Flag 9 (tme1)\n",
    "tme.generator"
   ]
  },
  {
   "cell_type": "code",
   "execution_count": 9,
   "metadata": {},
   "outputs": [
    {
     "name": "stdout",
     "output_type": "stream",
     "text": [
      "nombre premier trouvé\n",
      "p 15552428417381349189161127554324521796001441556843113555213565416350968479132987696392369975156876207979815336516677423305893681146432321998845799658592818607451225642579025510958801839788443720097981203987487235702216540547680257544535421137141658138028650822699004353419753822578791815164631208624840536835856182560833908880476657702402480160748461635019838167342872244631151563243454439294620209654438273834084835131966979580134651291723714563050409045189558593445630385587410243749478021934252641247027824103146646317892226115482705015669594801193243875906315196682861881835111135719686753323385331562101890225461\n",
      "g 4992378123230808647924055520228987256484776275645462337380347422172614385420043848822275773875361198196738435820133400521565785305330690067709174947175171862871372077992959813083776704039793238062849063728753960142654923164131898536776638295968093470712795219342585141427243377796305211193492590142874672720177537878248053304229707389154539858810315130806354201636111100455359212725945920675654153514686229034071122020171394654669384528749247563513851795239847437480810389379975888216118122787286273155055604865253323694624094867051439826534981857000384678701278251833082574356296994503928465165213942378411466621343\n"
     ]
    }
   ],
   "source": [
    "\n",
    "\n",
    "import random\n",
    "import sympy\n",
    "\n",
    "def generate_prime(a, b, q):\n",
    "    \n",
    "    #Génère un nombre premier p tel que p = 1 + k*q avec k pair et a <= p < b.\n",
    "    while True:\n",
    "        #ici on gère le cas où a est pair ou impair sinon ça marche qu'une fois sur 2.\n",
    "        if (a%2):\n",
    "            k = random.randrange(((a-1)//q)+1, (b - 2) // q, 2)\n",
    "        else : \n",
    "            k = random.randrange(((a-1)//q), (b - 2) // q, 2)\n",
    "        \n",
    "        p = 1 + k * q\n",
    "        if a <= p < b and sympy.isprime(p):\n",
    "            return p\n",
    "\n",
    "def find_generator(p, q):\n",
    "#Trouve un générateur g d'ordre q modulo p.\n",
    "    while True:\n",
    "        x = random.randint(2, p - 2)\n",
    "        g = pow(x, (p - 1) // q, p)\n",
    "        if g != 1:\n",
    "            return g\n",
    "        \n",
    "\n",
    "a=int(\"7b32ef51c8ebaabf44f7f3c08fe163c4df90c5d0313c2c8ee280d558622d49c5718414fe817def4022cb59792f67153bdef9b0bb61e3e76e579c935fb8b7b08412be6494977940e71050712fb1d50b789b74919228f3e38d347fd4d529c63b9dd42e3d508d1c57f86bfeb6e0d2907be8a51a9ce15def406daa39e4fece59e97522a8f427f8ddb422e3e67d10f4d56534d55e6e1a3f03c402367b0b218b6e59b0598ca6cd33003b0d08b736e22f9ea8b9aff2f6dca296c53c40baae0bdff8902885010281f36da2aab6a4354360c717a1ef465b0597b49ec75fe20b96c825e073830b92458e5c8f06fd5771bde5bb1fda6ba3a94d5ac9afa9b966ace0962ef447\",16)\n",
    "b = a + 2**1950\n",
    "q=int(\"9c1340b6df3e7e0e6fb1fe2a1fdaafbcf9f7738942b68d9539550e03c5f0599f\",16)\n",
    "p = generate_prime(a, b, q)\n",
    "print(\"nombre premier trouvé\")\n",
    "g = find_generator(p, q)\n",
    "\n",
    "print(\"p\",p)\n",
    "print(\"g\",g)\n"
   ]
  },
  {
   "cell_type": "markdown",
   "metadata": {},
   "source": [
    "# TME2 FLAG 10\n",
    "tme.primitive"
   ]
  },
  {
   "cell_type": "code",
   "execution_count": 10,
   "metadata": {},
   "outputs": [
    {
     "name": "stdout",
     "output_type": "stream",
     "text": [
      "g = 2968390978971683130510499519982537452706492921113976427418079715355707112338953534005546616536068929064738394430243109698262927890138766298217533201493965203362017014799103552831767162309633705442035657621382469762973381505501982306188465255175410513987365861981314851264368519896209802414044502503612907402821218731538659034277054580824238622417755419159082242044018854944989743098679068204529685895821494821606693769119729637303045923858837798431347856017699997994909816126111445079204578067659274595223799375557484737558116309040507374743361995624509296097027034504863312059272128787269894335006912604644569509975\n",
      "facteurs de (p-1)/q = 2, 23561213213014014782061864924857945961050199356802323389290801371559684172849412492090908722520280665163090933976809, 6372922862422069413235766210783383930302138919100052966988380765577535826880093984156083563737957816656848922549313, 3285847259338752642286138945047870447017449664168779758651284159005104141531482191410688683957595010266535233215959, 11494828690725780856403012544829883781394687996321359459991748107799981620970922982023615326854598617536647971433161, 26357, 3386501248536263815640100987251399597\n"
     ]
    }
   ],
   "source": [
    "import random\n",
    "\n",
    "# Paramètres de départ\n",
    "entier_a = int(\"f1e0c8816320352c5000c9186d80f11d4de8c6e3b48a7fab1d30c3fac7c6a8cf66d70507ba449fd42d0a4597ddccfaf76148dce53f29e1236d7dc753edff5fa2673422731ebc3628b824e8dc5657e526613ec9fa607e9d5077ff7e17c867ab8d843977ef3ad9268ddbf84b961124e959111cc2866f12d616129579958129c0697d87aace3406b653b8da5777282ea852a901e1fec1a27eb51a2e1b72eda9a18820a7e64dfbbc68c0c1eab610fc57eb1c8b668903fad1809d4a85aafead89558c059f410b415c72b0a382edd21ace578c8c26b6681b8404be9bffd3ce430b217adad26ef5d78a83b83a98c4b940455d12fff4a92cff3431d1915752d2649dcb30\", 16)\n",
    "entier_b = entier_a + 2**1950\n",
    "q_ref = int(\"c3f344c6174f077d8b79974dfa3d7e7e3e5f33bf9758f52e53d8a51786b8bc2bea0a6acda098bd37c42a62c029ae519b\", 16)\n",
    "\n",
    "# print(\"entier_a =\", entier_a)\n",
    "# print(\"entier_b =\", entier_b)\n",
    "# print(\"q_ref =\", q_ref)\n",
    "\n",
    "# Test de primalité de Miller-Rabin\n",
    "def miller_rabin(n, iterations):\n",
    "    if (n == 2):\n",
    "        return True\n",
    "    if (n % 2 == 0 or n < 2):\n",
    "        return False\n",
    "\n",
    "    r = 0\n",
    "    s = n - 1\n",
    "    while (s % 2 == 0):\n",
    "        r += 1\n",
    "        s //= 2\n",
    "    # print(\"r =\", r)\n",
    "    # print(\"s =\", s)\n",
    "\n",
    "    compteur_test = 0\n",
    "    while (compteur_test < iterations):\n",
    "        base = random.randrange(2, n - 1)\n",
    "        x = pow(base, s, n)\n",
    "        # print(\"base =\", base)\n",
    "        # print(\"x =\", x)\n",
    "        if (x != 1 and x != n - 1):\n",
    "            repetition = 0\n",
    "            while ((repetition < r - 1) and (x != n - 1)):\n",
    "                x = pow(x, 2, n)\n",
    "                repetition += 1\n",
    "                # print(\"repetition =\", repetition)\n",
    "                # print(\"x (après carré) =\", x)\n",
    "            if (x != n - 1):\n",
    "                return False\n",
    "        compteur_test += 1\n",
    "\n",
    "    return True\n",
    "\n",
    "# Taille d'un entier en octets\n",
    "def taille_octets(n):\n",
    "    return (n.bit_length() + 7) // 8\n",
    "\n",
    "# Conversion entier en tableau d'octets\n",
    "def entier_vers_octets(n):\n",
    "    return n.to_bytes(taille_octets(n), 'big')\n",
    "\n",
    "# Algorithme d'Euclide étendu\n",
    "def euclide_etendu(a, b):\n",
    "    if (a == 0):\n",
    "        return b, 0, 1\n",
    "    pgcd, x1, y1 = euclide_etendu(b % a, a)\n",
    "    return pgcd, y1 - (b // a) * x1, x1\n",
    "\n",
    "\n",
    "constante_c = 10000\n",
    "taille_bits_b = taille_octets(entier_b)\n",
    "q_max_possible = (entier_b - entier_a) // (constante_c * (taille_bits_b ** 2))\n",
    "taille_q = taille_octets(q_max_possible)\n",
    "\n",
    "# print(\"taille_bits_b =\", taille_bits_b)\n",
    "# print(\"q_max_possible =\", q_max_possible)\n",
    "# print(\"taille_q =\", taille_q)\n",
    "\n",
    "# Construction de Q'\n",
    "q_prime = 2 * q_ref\n",
    "facteurs = [2]\n",
    "\n",
    "while (taille_octets(q_prime) != taille_q):\n",
    "    borne = min(q_ref - 1, 2 ** (8 * (taille_q - taille_octets(q_prime))))\n",
    "    # print(\"borne =\", borne)\n",
    "    candidat = random.randrange(2, borne)\n",
    "    # print(\"candidat =\", candidat)\n",
    "    if (miller_rabin(candidat, 10)):\n",
    "        q_prime *= candidat\n",
    "        facteurs.append(candidat)\n",
    "        # print(\"q_prime =\", q_prime)\n",
    "        # print(\"facteurs =\", facteurs)\n",
    "\n",
    "a_reduit = entier_a // q_prime\n",
    "b_reduit = entier_b // q_prime\n",
    "\n",
    "# print(\"a_reduit =\", a_reduit)\n",
    "# print(\"b_reduit =\", b_reduit)\n",
    "\n",
    "# Recherche de pk\n",
    "trouve_pk = False\n",
    "while (trouve_pk == False):\n",
    "    pk = random.randrange(a_reduit, b_reduit)\n",
    "    # print(\"pk =\", pk)\n",
    "    if (miller_rabin(pk, 2)):\n",
    "        p_candidat = q_prime * pk + 1\n",
    "        # print(\"p_candidat =\", p_candidat)\n",
    "        if (miller_rabin(p_candidat, 2)):\n",
    "            Q = q_prime * pk\n",
    "            facteurs.append(pk)\n",
    "            p = p_candidat\n",
    "            trouve_pk = True\n",
    "            # print(\"Q =\", Q)\n",
    "            # print(\"p =\", p)\n",
    "\n",
    "# Recherche d’un générateur g\n",
    "essais_max = 200\n",
    "index_essai = 0\n",
    "generateur_trouve = False\n",
    "\n",
    "while ((generateur_trouve == False) and (index_essai < essais_max)):\n",
    "    g_candidat = random.randrange(2, p - 1)\n",
    "    # print(\"g_candidat =\", g_candidat)\n",
    "    est_generateur = True\n",
    "    index_verif = 0\n",
    "\n",
    "    while ((index_verif < len(facteurs)) and (est_generateur)):\n",
    "        facteur = facteurs[index_verif]\n",
    "        # print(\"facteur =\", facteur)\n",
    "        if (pow(g_candidat, Q // facteur, p) == 1):\n",
    "            est_generateur = False\n",
    "            # print(\"échec avec facteur =\", facteur)\n",
    "        index_verif += 1\n",
    "\n",
    "    if (est_generateur):\n",
    "        g = g_candidat\n",
    "        print(\"g =\", g)\n",
    "        generateur_trouve = True\n",
    "\n",
    "    index_essai += 1\n",
    "    # print(\"index_essai =\", index_essai)\n",
    "\n",
    "print(\"facteurs de (p-1)/q =\", str(facteurs)[1:-1])\n"
   ]
  }
 ],
 "metadata": {
  "kernelspec": {
   "display_name": "Python 3",
   "language": "python",
   "name": "python3"
  },
  "language_info": {
   "codemirror_mode": {
    "name": "ipython",
    "version": 3
   },
   "file_extension": ".py",
   "mimetype": "text/x-python",
   "name": "python",
   "nbconvert_exporter": "python",
   "pygments_lexer": "ipython3",
   "version": "3.12.5"
  }
 },
 "nbformat": 4,
 "nbformat_minor": 4
}
