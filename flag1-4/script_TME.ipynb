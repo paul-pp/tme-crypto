{
 "cells": [
  {
   "cell_type": "markdown",
   "metadata": {
    "deletable": false,
    "editable": false,
    "nbgrader": {
     "cell_type": "markdown",
     "checksum": "93276c2a1a169480633eec323c3c6f42",
     "grade": false,
     "grade_id": "cell-e846a52d30334adf",
     "locked": true,
     "schema_version": 3,
     "solution": false,
     "task": false
    }
   },
   "source": [
    "---\n",
    "\n",
    "# Code des Flags 1 à 4\n",
    "\n",
    "\n",
    "\n",
    "---"
   ]
  },
  {
   "cell_type": "markdown",
   "metadata": {
    "deletable": false,
    "editable": false,
    "nbgrader": {
     "cell_type": "markdown",
     "checksum": "a7533d0e5ec9d49f68bfbf4778e47562",
     "grade": false,
     "grade_id": "cell-9bf85507f9e05019",
     "locked": true,
     "schema_version": 3,
     "solution": false,
     "task": false
    }
   },
   "source": [
    "# Flag1 \n",
    "register\n",
    "\n",
    "On se rend dans le datacenter. Sur l'inscription il est écrit : POST-IT PASSWORD: ISECR0XX. Sur le post-it en dessous du clavier il y'a marqué : \"U2FsdGVkX1/ayza2lqhPr8Qsxi3DLMV+/rtq/ywiXzsJFWOZupP7MiKlk0QJF/CG\n",
    "WEDOjPZGcXQfLLwtETC9iA==\" \n",
    "Le but du flag est de déchiffrer le chiffré du post it à l'aide du password ISECR0XX. Ensuite, on peut créer un compte sur le terminal du datacenter\n"
   ]
  },
  {
   "cell_type": "code",
   "execution_count": 4,
   "metadata": {
    "deletable": false,
    "editable": false,
    "nbgrader": {
     "cell_type": "code",
     "checksum": "ae90a0b76809f6685e3c7c045dd481da",
     "grade": false,
     "grade_id": "cell-26aaaa28b3923e8b",
     "locked": true,
     "schema_version": 3,
     "solution": false,
     "task": false
    }
   },
   "outputs": [
    {
     "name": "stdout",
     "output_type": "stream",
     "text": [
      "message déchiffré :  386b8f72-57d8-47c0-af4c-5c7d3f795f39\n"
     ]
    }
   ],
   "source": [
    "import subprocess\n",
    "\n",
    "#passphrase =ISECR0XX\n",
    "#cryptext = U2FsdGVkX1/ayza2lqhPr8Qsxi3DLMV+/rtq/ywiXzsJFWOZupP7MiKlk0QJF/CGWEDOjPZGcXQfLLwtETC9iA==\n",
    "def decrypt(passphrase,cipher='aes-128-cbc'):\n",
    "    # prépare les arguments à envoyer à openssl\n",
    "    pass_arg = 'pass:{}'.format(passphrase)\n",
    "    args = ['openssl', 'enc','-d','-base64','-' + cipher, '-pbkdf2', '-pass', pass_arg]\n",
    "    fichier = open(\"ciphertext.txt\", \"r\")\n",
    "    chiffre=fichier.read()\n",
    "\n",
    "    # si plaintext est de stype str, on est obligé de l'encoder en bytes pour\n",
    "    # pouvoir l'envoyer dans le pipeline vers openssl\n",
    "    if isinstance(chiffre, str):\n",
    "        chiffre=chiffre.encode('utf-8')\n",
    "\n",
    "    \n",
    "    # ouvre le pipeline vers openssl. envoie plaintext sur le stdin de openssl, récupère stdout et stderr\n",
    "    #    affiche la commande invoquée\n",
    "    #    print('debug : {0}'.format(' '.join(args)))\n",
    "    result = subprocess.run(args, input=chiffre, stdout=subprocess.PIPE, stderr=subprocess.PIPE)\n",
    "\n",
    "    # si un message d'erreur est présent sur stderr, on arrête tout\n",
    "    # attention, sur stderr on récupère des bytes(), donc on convertit\n",
    "    error_message = result.stderr.decode()\n",
    "    if error_message != '':\n",
    "        print (error_message)\n",
    "    \n",
    "    fichier.close()\n",
    "\n",
    "    # OK, openssl a envoyé le chiffré sur stdout, en base64.\n",
    "    # On récupère des bytes, donc on en fait une chaine unicode\n",
    "    return result.stdout.decode()\n",
    "\n",
    "passphrase =\"ISECR0XX\"\n",
    "\n",
    "print(\"message déchiffré : \",decrypt(passphrase,cipher='aes-128-cbc'))\n",
    "\n"
   ]
  },
  {
   "cell_type": "markdown",
   "metadata": {},
   "source": [
    "# FLAG2\n",
    "pki.tutorial\n",
    "\n",
    "On va dans le local de service 3 et on suit les étapes du tutoriel de l'option Public Key Infrastructure : tutoriel\n",
    "\n",
    "Le but du flag est de chiffré le message \"I got it!\" à l'aide de la clé publique de l'utilisateur \"pki_tutorial\"."
   ]
  },
  {
   "cell_type": "code",
   "execution_count": 5,
   "metadata": {},
   "outputs": [
    {
     "name": "stdout",
     "output_type": "stream",
     "text": [
      "chiffré : 16a9e8f3be7bba3fd80f6b68792a7488f7b36bcdffb17869c2583d1711a485ec896b342b531377fe60cdbc84444fed6f605fa1b08038344eaf5cb2c4822872229753fb31334cb8b7f750e6a62c2dbfe78057f276a94d2dfd365e0319c37be424619464dc8618fa0eff134f040928a90504b178c865275e484a7ae78313cfead3b03b2c975a95cd6feda03123779bde10402b97e7e900f8130f7da7f0c483d13d29dc239d106975fa6500caaa9b00829d867e2a3612a6f932457448eb81bfa83f154828471cc8ccbace98cecd5f7508e254df0319e91ec77b93c1ab72118dd95e38eae4354f90e353b8a46d7a3d48bd241cf256145dd1de7cd80eb5bdf79fe190\n"
     ]
    }
   ],
   "source": [
    "def encrypt_pkey():\n",
    "    # prépare les arguments à envoyer à openssl\n",
    "    args = ['openssl', 'pkeyutl', '-encrypt', '-pubin', '-inkey', 'keys/pkey_tuto.pem']\n",
    "\n",
    "    fichier=open('pki_tutorial.txt','r')\n",
    "    message=fichier.read()\n",
    "    # si plaintext est de stype str, on est obligé de l'encoder en bytes pour\n",
    "    # pouvoir l'envoyer dans le pipeline vers openssl\n",
    "    if isinstance(message, str):\n",
    "        message=message.encode('utf-8')\n",
    "\n",
    "    \n",
    "    # ouvre le pipeline vers openssl. envoie plaintext sur le stdin de openssl, récupère stdout et stderr\n",
    "    #    affiche la commande invoquée\n",
    "    #    print('debug : {0}'.format(' '.join(args)))\n",
    "    result = subprocess.run(args, input=message, stdout=subprocess.PIPE, stderr=subprocess.PIPE)\n",
    "\n",
    "    # si un message d'erreur est présent sur stderr, on arrête tout\n",
    "    # attention, sur stderr on récupère des bytes(), donc on convertit\n",
    "    error_message = result.stderr.decode()\n",
    "    if error_message != '':\n",
    "        print (error_message)\n",
    "    \n",
    "    fichier.close()\n",
    "\n",
    "    # OK, openssl a envoyé le chiffré sur stdout, en base64.\n",
    "    # On récupère des bytes, donc on en fait une chaine unicode\n",
    "    return result.stdout.hex()\n",
    "\n",
    "print(\"chiffré :\",encrypt_pkey())"
   ]
  },
  {
   "cell_type": "markdown",
   "metadata": {},
   "source": [
    "# FLAG3\n",
    "pki.upload\n",
    "\n",
    "On génère une paire de clé de 2048 bits avec :\n",
    "$openssl genpkey -algorithm RSA -pkeyopt rsa_keygen_bits:2048\n",
    "\n",
    "On stocke le résultat dans un fichier \"keys/priv_key.pem\"\n",
    "\n",
    "On extrait la clé publique à l'aide de :\n",
    "$openssl pkey -in keys/priv_key.pem -pubout \n",
    "\n",
    "On stocke le résultat dans un autre fichier \"keys/pub_key.pem\"\n",
    "\n",
    "Pour avoir le flag il faut copier coller cette clé publique dans un terminal de service à l'option Public Key Infrastructure : Upload public-key"
   ]
  },
  {
   "cell_type": "markdown",
   "metadata": {},
   "source": [
    "## FLAG4\n",
    "power.on\n",
    "\n",
    "Aller dans le local électrique et taper 1. On nous donne un message à signer avec la clé privée qu'on a généré pour le flag3.\n",
    "On signe alors le message \"kebob enrol lotto chips hades\""
   ]
  },
  {
   "cell_type": "code",
   "execution_count": 6,
   "metadata": {},
   "outputs": [
    {
     "name": "stdout",
     "output_type": "stream",
     "text": [
      "signature : b'SHA2-256(stdin)= 9d043c68a3a9058ea6db3183df9667886d13101e58a11ff965becb54e4373bbd2290cc0a2639d0847f14acbb1fba5badae17f315dea25f6ca6465e099a829fc0f957fca3e028e9daea2a497572155dbb223bc0efcf7c1a0a2757989f4b2d6b05771c32ff00426452ec3dc3d40475b5036e2e96fa835e006696facf6d9b0714bb4552fc672bec50a7443391b4b5ff400b90beec9b5b0202680d4d81bf22138a35f36fade864b686abe2446c73cfd90d41e136eb78131ed68fb86ed54c8879779afa71d949ad7caa11c0fbf2588f520f76f482c9c55a524bf42cf82b1b69bdad4de7c6d063d5d13e192a1328697e4c94ef69bb4f2f15938a9219844178d73aa511\\n'\n"
     ]
    }
   ],
   "source": [
    "#on donne en argument à sign le message à signer et le chemin de la clé privée à utiliser pour signer.\n",
    "def sign(plain_text,chemin_priv_key):\n",
    "    # prépare les arguments à envoyer à openssl\n",
    "    args = ['openssl', 'dgst', '-sha256', '-sign', chemin_priv_key,'-hex']\n",
    "\n",
    "    # fichier=open('sign_elec.txt','r')\n",
    "    message=plain_text\n",
    "    # si plaintext est de stype str, on est obligé de l'encoder en bytes pour\n",
    "    # pouvoir l'envoyer dans le pipeline vers openssl\n",
    "    if isinstance(message, str):\n",
    "        message=message.encode('utf-8')\n",
    "\n",
    "    \n",
    "    # ouvre le pipeline vers openssl. envoie plaintext sur le stdin de openssl, récupère stdout et stderr\n",
    "    #    affiche la commande invoquée\n",
    "    #    print('debug : {0}'.format(' '.join(args)))\n",
    "    result = subprocess.run(args, input=message, stdout=subprocess.PIPE, stderr=subprocess.PIPE)\n",
    "\n",
    "    # si un message d'erreur est présent sur stderr, on arrête tout\n",
    "    # attention, sur stderr on récupère des bytes(), donc on convertit\n",
    "    error_message = result.stderr.decode()\n",
    "    if error_message != '':\n",
    "        print (error_message)\n",
    "    \n",
    "\n",
    "    # OK, openssl a envoyé le chiffré sur stdout, en base64.\n",
    "    # On récupère des bytes, donc on en fait une chaine unicode\n",
    "    return result.stdout\n",
    "\n",
    "\n",
    "\n",
    "print(\"signature :\", sign(\"kebob enrol lotto chips hades\",\"keys/priv_key.pem\"))\n",
    "\n"
   ]
  }
 ],
 "metadata": {
  "kernelspec": {
   "display_name": "Python 3",
   "language": "python",
   "name": "python3"
  },
  "language_info": {
   "codemirror_mode": {
    "name": "ipython",
    "version": 3
   },
   "file_extension": ".py",
   "mimetype": "text/x-python",
   "name": "python",
   "nbconvert_exporter": "python",
   "pygments_lexer": "ipython3",
   "version": "3.12.5"
  }
 },
 "nbformat": 4,
 "nbformat_minor": 4
}
